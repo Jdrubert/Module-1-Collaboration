{
 "cells": [
  {
   "cell_type": "code",
   "execution_count": null,
   "id": "f383a30f",
   "metadata": {},
   "outputs": [],
   "source": [
    "#11.1\n",
    "def hours():\n",
    "    print('Open 9-5 daily')"
   ]
  },
  {
   "cell_type": "code",
   "execution_count": null,
   "id": "2ba98a40",
   "metadata": {},
   "outputs": [
    {
     "name": "stdout",
     "output_type": "stream",
     "text": [
      "Open 9-5 daily\n"
     ]
    }
   ],
   "source": [
    "#11.1\n",
    "import zoo\n",
    "zoo.hours()"
   ]
  },
  {
   "cell_type": "code",
   "execution_count": null,
   "id": "559387ec",
   "metadata": {},
   "outputs": [
    {
     "name": "stdout",
     "output_type": "stream",
     "text": [
      "Open 9-5 daily\n"
     ]
    }
   ],
   "source": [
    "#11.2\n",
    "import zoo as menagerie\n",
    "menagerie.hours()"
   ]
  },
  {
   "cell_type": "markdown",
   "id": "7acf4aaa",
   "metadata": {},
   "source": []
  },
  {
   "cell_type": "code",
   "execution_count": null,
   "id": "cbbdb347",
   "metadata": {},
   "outputs": [
    {
     "ename": "NoSuchTableError",
     "evalue": "books",
     "output_type": "error",
     "traceback": [
      "\u001b[1;31m---------------------------------------------------------------------------\u001b[0m",
      "\u001b[1;31mNoSuchTableError\u001b[0m                          Traceback (most recent call last)",
      "Cell \u001b[1;32mIn[6], line 4\u001b[0m\n\u001b[0;32m      2\u001b[0m engine \u001b[38;5;241m=\u001b[39m create_engine(\u001b[38;5;124m'\u001b[39m\u001b[38;5;124msqlite:///books.db\u001b[39m\u001b[38;5;124m'\u001b[39m)\n\u001b[0;32m      3\u001b[0m metadata \u001b[38;5;241m=\u001b[39m MetaData()\n\u001b[1;32m----> 4\u001b[0m books_table \u001b[38;5;241m=\u001b[39m Table(\u001b[38;5;124m'\u001b[39m\u001b[38;5;124mbooks\u001b[39m\u001b[38;5;124m'\u001b[39m, metadata, autoload_with\u001b[38;5;241m=\u001b[39mengine)\n\u001b[0;32m      5\u001b[0m query \u001b[38;5;241m=\u001b[39m select(books_table\u001b[38;5;241m.\u001b[39mc\u001b[38;5;241m.\u001b[39mtitle)\u001b[38;5;241m.\u001b[39morder_by(books_table\u001b[38;5;241m.\u001b[39mc\u001b[38;5;241m.\u001b[39mtitle)\n\u001b[0;32m      6\u001b[0m \u001b[38;5;28;01mwith\u001b[39;00m engine\u001b[38;5;241m.\u001b[39mconnect() \u001b[38;5;28;01mas\u001b[39;00m connection:\n",
      "File \u001b[1;32m<string>:2\u001b[0m, in \u001b[0;36m__new__\u001b[1;34m(cls, *args, **kw)\u001b[0m\n",
      "File \u001b[1;32mc:\\Users\\Thato\\anaconda3\\Lib\\site-packages\\sqlalchemy\\util\\deprecations.py:281\u001b[0m, in \u001b[0;36mdeprecated_params.<locals>.decorate.<locals>.warned\u001b[1;34m(fn, *args, **kwargs)\u001b[0m\n\u001b[0;32m    274\u001b[0m     \u001b[38;5;28;01mif\u001b[39;00m m \u001b[38;5;129;01min\u001b[39;00m kwargs:\n\u001b[0;32m    275\u001b[0m         _warn_with_version(\n\u001b[0;32m    276\u001b[0m             messages[m],\n\u001b[0;32m    277\u001b[0m             versions[m],\n\u001b[0;32m    278\u001b[0m             version_warnings[m],\n\u001b[0;32m    279\u001b[0m             stacklevel\u001b[38;5;241m=\u001b[39m\u001b[38;5;241m3\u001b[39m,\n\u001b[0;32m    280\u001b[0m         )\n\u001b[1;32m--> 281\u001b[0m \u001b[38;5;28;01mreturn\u001b[39;00m fn(\u001b[38;5;241m*\u001b[39margs, \u001b[38;5;241m*\u001b[39m\u001b[38;5;241m*\u001b[39mkwargs)\n",
      "File \u001b[1;32mc:\\Users\\Thato\\anaconda3\\Lib\\site-packages\\sqlalchemy\\sql\\schema.py:427\u001b[0m, in \u001b[0;36mTable.__new__\u001b[1;34m(cls, *args, **kw)\u001b[0m\n\u001b[0;32m    420\u001b[0m \u001b[38;5;129m@util\u001b[39m\u001b[38;5;241m.\u001b[39mdeprecated_params(\n\u001b[0;32m    421\u001b[0m     mustexist\u001b[38;5;241m=\u001b[39m(\n\u001b[0;32m    422\u001b[0m         \u001b[38;5;124m\"\u001b[39m\u001b[38;5;124m1.4\u001b[39m\u001b[38;5;124m\"\u001b[39m,\n\u001b[1;32m   (...)\u001b[0m\n\u001b[0;32m    425\u001b[0m )\n\u001b[0;32m    426\u001b[0m \u001b[38;5;28;01mdef\u001b[39;00m \u001b[38;5;21m__new__\u001b[39m(\u001b[38;5;28mcls\u001b[39m, \u001b[38;5;241m*\u001b[39margs: Any, \u001b[38;5;241m*\u001b[39m\u001b[38;5;241m*\u001b[39mkw: Any) \u001b[38;5;241m-\u001b[39m\u001b[38;5;241m>\u001b[39m Any:\n\u001b[1;32m--> 427\u001b[0m     \u001b[38;5;28;01mreturn\u001b[39;00m \u001b[38;5;28mcls\u001b[39m\u001b[38;5;241m.\u001b[39m_new(\u001b[38;5;241m*\u001b[39margs, \u001b[38;5;241m*\u001b[39m\u001b[38;5;241m*\u001b[39mkw)\n",
      "File \u001b[1;32mc:\\Users\\Thato\\anaconda3\\Lib\\site-packages\\sqlalchemy\\sql\\schema.py:481\u001b[0m, in \u001b[0;36mTable._new\u001b[1;34m(cls, *args, **kw)\u001b[0m\n\u001b[0;32m    479\u001b[0m     \u001b[38;5;28;01mreturn\u001b[39;00m table\n\u001b[0;32m    480\u001b[0m \u001b[38;5;28;01mexcept\u001b[39;00m \u001b[38;5;167;01mException\u001b[39;00m:\n\u001b[1;32m--> 481\u001b[0m     \u001b[38;5;28;01mwith\u001b[39;00m util\u001b[38;5;241m.\u001b[39msafe_reraise():\n\u001b[0;32m    482\u001b[0m         metadata\u001b[38;5;241m.\u001b[39m_remove_table(name, schema)\n",
      "File \u001b[1;32mc:\\Users\\Thato\\anaconda3\\Lib\\site-packages\\sqlalchemy\\util\\langhelpers.py:146\u001b[0m, in \u001b[0;36msafe_reraise.__exit__\u001b[1;34m(self, type_, value, traceback)\u001b[0m\n\u001b[0;32m    144\u001b[0m     \u001b[38;5;28;01massert\u001b[39;00m exc_value \u001b[38;5;129;01mis\u001b[39;00m \u001b[38;5;129;01mnot\u001b[39;00m \u001b[38;5;28;01mNone\u001b[39;00m\n\u001b[0;32m    145\u001b[0m     \u001b[38;5;28mself\u001b[39m\u001b[38;5;241m.\u001b[39m_exc_info \u001b[38;5;241m=\u001b[39m \u001b[38;5;28;01mNone\u001b[39;00m  \u001b[38;5;66;03m# remove potential circular references\u001b[39;00m\n\u001b[1;32m--> 146\u001b[0m     \u001b[38;5;28;01mraise\u001b[39;00m exc_value\u001b[38;5;241m.\u001b[39mwith_traceback(exc_tb)\n\u001b[0;32m    147\u001b[0m \u001b[38;5;28;01melse\u001b[39;00m:\n\u001b[0;32m    148\u001b[0m     \u001b[38;5;28mself\u001b[39m\u001b[38;5;241m.\u001b[39m_exc_info \u001b[38;5;241m=\u001b[39m \u001b[38;5;28;01mNone\u001b[39;00m  \u001b[38;5;66;03m# remove potential circular references\u001b[39;00m\n",
      "File \u001b[1;32mc:\\Users\\Thato\\anaconda3\\Lib\\site-packages\\sqlalchemy\\sql\\schema.py:477\u001b[0m, in \u001b[0;36mTable._new\u001b[1;34m(cls, *args, **kw)\u001b[0m\n\u001b[0;32m    475\u001b[0m metadata\u001b[38;5;241m.\u001b[39m_add_table(name, schema, table)\n\u001b[0;32m    476\u001b[0m \u001b[38;5;28;01mtry\u001b[39;00m:\n\u001b[1;32m--> 477\u001b[0m     table\u001b[38;5;241m.\u001b[39m\u001b[38;5;21m__init__\u001b[39m(name, metadata, \u001b[38;5;241m*\u001b[39margs, _no_init\u001b[38;5;241m=\u001b[39m\u001b[38;5;28;01mFalse\u001b[39;00m, \u001b[38;5;241m*\u001b[39m\u001b[38;5;241m*\u001b[39mkw)\n\u001b[0;32m    478\u001b[0m     table\u001b[38;5;241m.\u001b[39mdispatch\u001b[38;5;241m.\u001b[39mafter_parent_attach(table, metadata)\n\u001b[0;32m    479\u001b[0m     \u001b[38;5;28;01mreturn\u001b[39;00m table\n",
      "File \u001b[1;32mc:\\Users\\Thato\\anaconda3\\Lib\\site-packages\\sqlalchemy\\sql\\schema.py:857\u001b[0m, in \u001b[0;36mTable.__init__\u001b[1;34m(self, name, metadata, schema, quote, quote_schema, autoload_with, autoload_replace, keep_existing, extend_existing, resolve_fks, include_columns, implicit_returning, comment, info, listeners, prefixes, _extend_on, _no_init, *args, **kw)\u001b[0m\n\u001b[0;32m    853\u001b[0m \u001b[38;5;66;03m# load column definitions from the database if 'autoload' is defined\u001b[39;00m\n\u001b[0;32m    854\u001b[0m \u001b[38;5;66;03m# we do it after the table is in the singleton dictionary to support\u001b[39;00m\n\u001b[0;32m    855\u001b[0m \u001b[38;5;66;03m# circular foreign keys\u001b[39;00m\n\u001b[0;32m    856\u001b[0m \u001b[38;5;28;01mif\u001b[39;00m autoload_with \u001b[38;5;129;01mis\u001b[39;00m \u001b[38;5;129;01mnot\u001b[39;00m \u001b[38;5;28;01mNone\u001b[39;00m:\n\u001b[1;32m--> 857\u001b[0m     \u001b[38;5;28mself\u001b[39m\u001b[38;5;241m.\u001b[39m_autoload(\n\u001b[0;32m    858\u001b[0m         metadata,\n\u001b[0;32m    859\u001b[0m         autoload_with,\n\u001b[0;32m    860\u001b[0m         include_columns,\n\u001b[0;32m    861\u001b[0m         _extend_on\u001b[38;5;241m=\u001b[39m_extend_on,\n\u001b[0;32m    862\u001b[0m         _reflect_info\u001b[38;5;241m=\u001b[39m_reflect_info,\n\u001b[0;32m    863\u001b[0m         resolve_fks\u001b[38;5;241m=\u001b[39mresolve_fks,\n\u001b[0;32m    864\u001b[0m     )\n\u001b[0;32m    866\u001b[0m \u001b[38;5;66;03m# initialize all the column, etc. objects.  done after reflection to\u001b[39;00m\n\u001b[0;32m    867\u001b[0m \u001b[38;5;66;03m# allow user-overrides\u001b[39;00m\n\u001b[0;32m    869\u001b[0m \u001b[38;5;28mself\u001b[39m\u001b[38;5;241m.\u001b[39m_init_items(\n\u001b[0;32m    870\u001b[0m     \u001b[38;5;241m*\u001b[39margs,\n\u001b[0;32m    871\u001b[0m     allow_replacements\u001b[38;5;241m=\u001b[39mextend_existing\n\u001b[1;32m   (...)\u001b[0m\n\u001b[0;32m    874\u001b[0m     all_names\u001b[38;5;241m=\u001b[39m{},\n\u001b[0;32m    875\u001b[0m )\n",
      "File \u001b[1;32mc:\\Users\\Thato\\anaconda3\\Lib\\site-packages\\sqlalchemy\\sql\\schema.py:889\u001b[0m, in \u001b[0;36mTable._autoload\u001b[1;34m(self, metadata, autoload_with, include_columns, exclude_columns, resolve_fks, _extend_on, _reflect_info)\u001b[0m\n\u001b[0;32m    887\u001b[0m insp \u001b[38;5;241m=\u001b[39m inspection\u001b[38;5;241m.\u001b[39minspect(autoload_with)\n\u001b[0;32m    888\u001b[0m \u001b[38;5;28;01mwith\u001b[39;00m insp\u001b[38;5;241m.\u001b[39m_inspection_context() \u001b[38;5;28;01mas\u001b[39;00m conn_insp:\n\u001b[1;32m--> 889\u001b[0m     conn_insp\u001b[38;5;241m.\u001b[39mreflect_table(\n\u001b[0;32m    890\u001b[0m         \u001b[38;5;28mself\u001b[39m,\n\u001b[0;32m    891\u001b[0m         include_columns,\n\u001b[0;32m    892\u001b[0m         exclude_columns,\n\u001b[0;32m    893\u001b[0m         resolve_fks,\n\u001b[0;32m    894\u001b[0m         _extend_on\u001b[38;5;241m=\u001b[39m_extend_on,\n\u001b[0;32m    895\u001b[0m         _reflect_info\u001b[38;5;241m=\u001b[39m_reflect_info,\n\u001b[0;32m    896\u001b[0m     )\n",
      "File \u001b[1;32mc:\\Users\\Thato\\anaconda3\\Lib\\site-packages\\sqlalchemy\\engine\\reflection.py:1547\u001b[0m, in \u001b[0;36mInspector.reflect_table\u001b[1;34m(self, table, include_columns, exclude_columns, resolve_fks, _extend_on, _reflect_info)\u001b[0m\n\u001b[0;32m   1544\u001b[0m     \u001b[38;5;28;01mraise\u001b[39;00m _reflect_info\u001b[38;5;241m.\u001b[39munreflectable[table_key]\n\u001b[0;32m   1546\u001b[0m \u001b[38;5;28;01mif\u001b[39;00m table_key \u001b[38;5;129;01mnot\u001b[39;00m \u001b[38;5;129;01min\u001b[39;00m _reflect_info\u001b[38;5;241m.\u001b[39mcolumns:\n\u001b[1;32m-> 1547\u001b[0m     \u001b[38;5;28;01mraise\u001b[39;00m exc\u001b[38;5;241m.\u001b[39mNoSuchTableError(table_name)\n\u001b[0;32m   1549\u001b[0m \u001b[38;5;66;03m# reflect table options, like mysql_engine\u001b[39;00m\n\u001b[0;32m   1550\u001b[0m \u001b[38;5;28;01mif\u001b[39;00m _reflect_info\u001b[38;5;241m.\u001b[39mtable_options:\n",
      "\u001b[1;31mNoSuchTableError\u001b[0m: books"
     ]
    }
   ],
   "source": [
    "#16.8\n",
    "from sqlalchemy import create_engine, select, Table, MetaData\n",
    "engine = create_engine('sqlite:///books.db')\n",
    "metadata = MetaData()\n",
    "books_table = Table('books', metadata, autoload_with=engine)\n",
    "query = select(books_table.c.title).order_by(books_table.c.title)\n",
    "with engine.connect() as connection:\n",
    "    result = connection.execute(query)\n",
    "    for row in result:\n",
    "        print(row[0])"
   ]
  }
 ],
 "metadata": {
  "kernelspec": {
   "display_name": "base",
   "language": "python",
   "name": "python3"
  },
  "language_info": {
   "codemirror_mode": {
    "name": "ipython",
    "version": 3
   },
   "file_extension": ".py",
   "mimetype": "text/x-python",
   "name": "python",
   "nbconvert_exporter": "python",
   "pygments_lexer": "ipython3",
   "version": "3.12.7"
  }
 },
 "nbformat": 4,
 "nbformat_minor": 5
}

{
 "cells": [
  {
   "cell_type": "code",
   "execution_count": 1,
   "id": "fa2ff223-51d3-4f7a-b209-56fd07ac9292",
   "metadata": {},
   "outputs": [
    {
     "data": {
      "text/plain": [
       "3600"
      ]
     },
     "execution_count": 1,
     "metadata": {},
     "output_type": "execute_result"
    }
   ],
   "source": [
    "secondsPerMin = 60\n",
    "minsPerHour = 60\n",
    "secondsPerMin * minsPerHour\n"
   ]
  },
  {
   "cell_type": "code",
   "execution_count": 7,
   "id": "cc0fdd71-0da3-45af-9f02-039c8453c4a9",
   "metadata": {},
   "outputs": [],
   "source": [
    "secondsPerHour = secondsPerMin * minsPerHour"
   ]
  },
  {
   "cell_type": "code",
   "execution_count": 13,
   "id": "da1df53e-1a8b-43e5-ac8a-a7e5c5e942f7",
   "metadata": {},
   "outputs": [
    {
     "data": {
      "text/plain": [
       "86400"
      ]
     },
     "execution_count": 13,
     "metadata": {},
     "output_type": "execute_result"
    }
   ],
   "source": [
    "secondsPerHour * 24"
   ]
  },
  {
   "cell_type": "code",
   "execution_count": 19,
   "id": "63467639-9a9f-44be-bb09-fd6dd7cf6388",
   "metadata": {},
   "outputs": [],
   "source": [
    "secondsPerDay = (secondsPerHour*24)"
   ]
  },
  {
   "cell_type": "code",
   "execution_count": null,
   "id": "4bed401a-6a88-4fca-b8cc-08083a3229c7",
   "metadata": {},
   "outputs": [],
   "source": [
    "secondsPerDay/secondsPerHour"
   ]
  }
 ],
 "metadata": {
  "kernelspec": {
   "display_name": "Python [conda env:base] *",
   "language": "python",
   "name": "conda-base-py"
  },
  "language_info": {
   "codemirror_mode": {
    "name": "ipython",
    "version": 3
   },
   "file_extension": ".py",
   "mimetype": "text/x-python",
   "name": "python",
   "nbconvert_exporter": "python",
   "pygments_lexer": "ipython3",
   "version": "3.12.7"
  }
 },
 "nbformat": 4,
 "nbformat_minor": 5
}
